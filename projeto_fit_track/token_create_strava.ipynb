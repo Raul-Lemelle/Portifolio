{
 "cells": [
  {
   "cell_type": "code",
   "execution_count": null,
   "metadata": {},
   "outputs": [],
   "source": [
    "import os\n",
    "import json\n",
    "import requests\n",
    "from dotenv import load_dotenv\n",
    "\n",
    "load_dotenv()\n",
    "response = requests.post(\n",
    "    url='https://www.strava.com/oauth/token',\n",
    "    data={\n",
    "        'client_id': int(os.environ.get('client_id')),\n",
    "        'client_secret': os.environ.get('client_secret'),\n",
    "        'code': os.environ.get('strava_code'),\n",
    "        'grant_type': 'authorization_code'\n",
    "    }\n",
    ")\n",
    "strava_tokens = response.json()\n",
    "with open('strava_tokens.json', 'w', encoding='utf-8') as outfile:\n",
    "    json.dump(strava_tokens, outfile)\n",
    "print(strava_tokens)"
   ]
  }
 ],
 "metadata": {
  "language_info": {
   "name": "python"
  }
 },
 "nbformat": 4,
 "nbformat_minor": 2
}
